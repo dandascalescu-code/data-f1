{
 "cells": [
  {
   "attachments": {},
   "cell_type": "markdown",
   "id": "6e03e3fa",
   "metadata": {},
   "source": [
    "# Setup"
   ]
  },
  {
   "cell_type": "code",
   "execution_count": 1,
   "id": "c84fc87a",
   "metadata": {},
   "outputs": [],
   "source": [
    "import os\n",
    "import pandas as pd\n",
    "import numpy as np\n",
    "\n",
    "from matplotlib import pyplot as plt"
   ]
  },
  {
   "cell_type": "code",
   "execution_count": 2,
   "id": "a69ec7d0",
   "metadata": {},
   "outputs": [],
   "source": [
    "# FastF1 setup\n",
    "\n",
    "import fastf1\n",
    "import fastf1.plotting\n",
    "\n",
    "fastf1.Cache.enable_cache('.fastf1/cache')\n",
    "fastf1.plotting.setup_mpl()"
   ]
  },
  {
   "cell_type": "code",
   "execution_count": 3,
   "id": "cceefc8b",
   "metadata": {},
   "outputs": [
    {
     "name": "stdout",
     "output_type": "stream",
     "text": [
      "Parsing tables...\n",
      "\t[circuits]\n",
      "\t\t8 columns\n",
      "\t\t76 rows\n",
      "\t[constructors]\n",
      "\t\t4 columns\n",
      "\t\t211 rows\n",
      "\t[constructor_results]\n",
      "\t\t4 columns\n",
      "\t\t12170 rows\n",
      "\t[constructor_standings]\n",
      "\t\t6 columns\n",
      "\t\t12931 rows\n",
      "\t[drivers]\n",
      "\t\t8 columns\n",
      "\t\t855 rows\n",
      "\t[driver_standings]\n",
      "\t\t6 columns\n",
      "\t\t33882 rows\n",
      "\t[lap_times]\n",
      "\t\t6 columns\n",
      "\t\t538121 rows\n",
      "\t[pit_stops]\n",
      "\t\t7 columns\n",
      "\t\t9634 rows\n",
      "\t[qualifying]\n",
      "\t\t8 columns\n",
      "\t\t9575 rows\n",
      "\t[races]\n",
      "\t\t17 columns\n",
      "\t\t1079 rows\n",
      "\t[results]\n",
      "\t\t18 columns\n",
      "\t\t25840 rows\n",
      "\t[seasons]\n",
      "\t\t2 columns\n",
      "\t\t73 rows\n",
      "\t[sprint_results]\n",
      "\t\t15 columns\n",
      "\t\t120 rows\n",
      "\t[status]\n",
      "\t\t1 columns\n",
      "\t\t139 rows\n"
     ]
    }
   ],
   "source": [
    "# Kaggle dataset setup\n",
    "\n",
    "DATASET_PATH = '.kaggle/dataset'\n",
    "\n",
    "kaggle_has_key = {\n",
    "    'circuits': True,\n",
    "    'constructor_results': True,\n",
    "    'constructor_standings': True,\n",
    "    'constructors': True,\n",
    "    'driver_standings': True,\n",
    "    'drivers': True,\n",
    "    'lap_times': False,\n",
    "    'pit_stops': False,\n",
    "    'qualifying': True,\n",
    "    'races': True,\n",
    "    'results': False,\n",
    "    'seasons': False,\n",
    "    'sprint_results': True,\n",
    "    'status': True\n",
    "}\n",
    "\n",
    "\n",
    "\n",
    "kaggle_tables = os.listdir(DATASET_PATH)\n",
    "kaggle_data = {}\n",
    "kaggle_dataframes = {}\n",
    "\n",
    "# Checking if new tables have been added\n",
    "diff = { os.path.splitext(t)[0] for t in kaggle_tables } - set(kaggle_has_key.keys())\n",
    "if len(diff) != 0:\n",
    "  raise ValueError(\n",
    "      f\"New table(s): {diff}\"\n",
    "  )\n",
    "\n",
    "print(\"Parsing tables...\")\n",
    "for t in kaggle_tables:\n",
    "  t_path = os.path.join(DATASET_PATH, t)\n",
    "  t_name, _ = os.path.splitext(t)\n",
    "  print(f\"\\t[{t_name}]\")\n",
    "  \n",
    "  t_df_cols = pd.read_csv(t_path, nrows=1)\n",
    "  t_dataframe = pd.read_csv(\n",
    "    t_path,\n",
    "    header    = 0,\n",
    "    index_col = 0 if kaggle_has_key[t_name] else None,\n",
    "    usecols   = list(range(len(t_df_cols.columns)))\n",
    "  )\n",
    "  \n",
    "  t_vals = t_dataframe.to_numpy().tolist()\n",
    "  t_cols = t_dataframe.columns.to_numpy().tolist()\n",
    "  n = len(t_vals)\n",
    "  m = len(t_cols)\n",
    "  print(f\"\\t\\t{m} columns\")\n",
    "  print(f\"\\t\\t{n} rows\")\n",
    "\n",
    "  t_indexes = t_dataframe.index.to_numpy().tolist()\n",
    "  if kaggle_has_key[t_name]:\n",
    "    n = len(t_indexes)\n",
    "  \n",
    "  t_data = {}\n",
    "  for i in range(n):\n",
    "    if kaggle_has_key[t_name]:\n",
    "      id = t_indexes[i]\n",
    "    else:\n",
    "      id = i + 1\n",
    "    t_data[id] = {}\n",
    "    for j in range(m):\n",
    "      t_data[id][t_cols[j]] = t_vals[i][j]\n",
    "  \n",
    "  kaggle_data[t_name] = t_data\n",
    "  kaggle_dataframes[t_name] = t_dataframe\n"
   ]
  },
  {
   "attachments": {},
   "cell_type": "markdown",
   "id": "51f27029",
   "metadata": {},
   "source": [
    "# Tests"
   ]
  },
  {
   "cell_type": "code",
   "execution_count": 4,
   "id": "8f13f0af",
   "metadata": {},
   "outputs": [],
   "source": [
    "# Find start and end of dataset\n",
    "\n",
    "round_max = kaggle_dataframes['races']['round'].max()\n",
    "years = kaggle_dataframes['races']['year'].unique()\n",
    "year_min, year_max = years.min(), years.max()"
   ]
  },
  {
   "cell_type": "code",
   "execution_count": 13,
   "id": "6b02ca0c",
   "metadata": {},
   "outputs": [
    {
     "data": {
      "text/plain": [
       "True"
      ]
     },
     "execution_count": 13,
     "metadata": {},
     "output_type": "execute_result"
    }
   ],
   "source": [
    "fastf1.get_event(2022, 22)['F1ApiSupport']"
   ]
  },
  {
   "cell_type": "code",
   "execution_count": 15,
   "id": "f768e056",
   "metadata": {},
   "outputs": [
    {
     "name": "stdout",
     "output_type": "stream",
     "text": [
      "2018 1\n",
      "2022 22\n"
     ]
    }
   ],
   "source": [
    "for year in range(year_min, year_max+1):\n",
    "    try:\n",
    "        event = fastf1.get_event(year, 1)\n",
    "        if event['F1ApiSupport']:\n",
    "            fast_year_start = year\n",
    "            break\n",
    "    except:\n",
    "        continue\n",
    "\n",
    "for year in range(year_max, fast_year_start-1, -1):\n",
    "    f = False\n",
    "    for round in range(round_max, 0, -1):\n",
    "        try:\n",
    "            event = fastf1.get_event(year, round)\n",
    "            if event['F1ApiSupport']:\n",
    "                fast_year_end = year\n",
    "                fast_round_end = round\n",
    "                f = True\n",
    "                break\n",
    "        except:\n",
    "            continue\n",
    "    if f:\n",
    "        break\n",
    "\n",
    "print(fast_year_start, 1)\n",
    "print(fast_year_end, fast_round_end)"
   ]
  }
 ],
 "metadata": {
  "kernelspec": {
   "display_name": "fastf1",
   "language": "python",
   "name": "python3"
  },
  "language_info": {
   "codemirror_mode": {
    "name": "ipython",
    "version": 3
   },
   "file_extension": ".py",
   "mimetype": "text/x-python",
   "name": "python",
   "nbconvert_exporter": "python",
   "pygments_lexer": "ipython3",
   "version": "3.9.13"
  },
  "vscode": {
   "interpreter": {
    "hash": "5c5f17a7e3db11725df214250c4324e4c87a321e27bdbe3e4ac3e2b229307322"
   }
  }
 },
 "nbformat": 4,
 "nbformat_minor": 5
}
